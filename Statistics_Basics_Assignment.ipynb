{
  "nbformat": 4,
  "nbformat_minor": 0,
  "metadata": {
    "colab": {
      "provenance": [],
      "authorship_tag": "ABX9TyPcnaFKyCjrV2IUIdtH3ddf",
      "include_colab_link": true
    },
    "kernelspec": {
      "name": "python3",
      "display_name": "Python 3"
    },
    "language_info": {
      "name": "python"
    }
  },
  "cells": [
    {
      "cell_type": "markdown",
      "metadata": {
        "id": "view-in-github",
        "colab_type": "text"
      },
      "source": [
        "<a href=\"https://colab.research.google.com/github/mrpahadi2609/Statistics/blob/main/Statistics_Basics_Assignment.ipynb\" target=\"_parent\"><img src=\"https://colab.research.google.com/assets/colab-badge.svg\" alt=\"Open In Colab\"/></a>"
      ]
    },
    {
      "cell_type": "code",
      "execution_count": null,
      "metadata": {
        "id": "FcaAhCc3xHQV"
      },
      "outputs": [],
      "source": [
        "## QUES 1) Explain the different types of data (qualitative and quantitative) and provide examples of each. Discuss\n",
        "# nominal, ordinal, interval, and ratio scales."
      ]
    },
    {
      "cell_type": "markdown",
      "source": [
        "Data can be broadly classified into two main types: qualitative and quantitative. Understanding the differences between these types is essential for data analysis and interpretation.\n",
        "\n",
        "Qualitative data, also known as categorical data, refers to non-numeric information that describes characteristics or qualities. This type of data is often used to capture subjective attributes and can be further divided into two categories: nominal and ordinal.\n",
        "\n",
        "1. Nominal Data: This type of qualitative data represents categories without any inherent order. The categories are distinct and can be named, but they cannot be ranked. For example, types of fruit (like apples, bananas, and oranges) or colors (like red, blue, and green) are nominal data. Each category is separate and does not imply any ranking.\n",
        "\n",
        "2. Ordinal Data: Ordinal data also consists of categories, but in this case, the categories have a meaningful order or ranking. However, the intervals between the ranks are not necessarily equal. An example of ordinal data could be survey responses like \"satisfied,\" \"neutral,\" and \"dissatisfied.\" Here, we can rank the responses, but we cannot quantify the difference between them.\n",
        "\n",
        "On the other hand, quantitative data is numerical and can be measured or counted. This type of data can be further divided into interval and ratio scales.\n",
        "\n",
        "1. Interval Data: Interval data is numerical data where the intervals between values are meaningful and consistent, but there is no true zero point. A common example is temperature measured in Celsius or Fahrenheit. For instance, the difference between 10°C and 20°C is the same as between 20°C and 30°C, but 0°C does not represent the absence of temperature.\n",
        "\n",
        "2. Ratio Data: Ratio data is similar to interval data, but it has a true zero point, allowing for the comparison of absolute magnitudes. Examples of ratio data include height, weight, and age. For instance, if someone weighs 0 kg, it means there is no weight, and we can say that a person weighing 80 kg is twice as heavy as a person weighing 40 kg."
      ],
      "metadata": {
        "id": "MrL2w_Ftxb7z"
      }
    },
    {
      "cell_type": "code",
      "source": [
        "## QUES 2) What are the measures of central tendency, and when should you use each? Discuss the mean, median,\n",
        "# and mode with examples and situations where each is appropriate."
      ],
      "metadata": {
        "id": "l0D2Xi3HxmHD"
      },
      "execution_count": null,
      "outputs": []
    },
    {
      "cell_type": "markdown",
      "source": [
        "Measures of central tendency are statistical measures that describe the center or typical value of a dataset. The three main measures are the mean, median, and mode, and each serves a different purpose depending on the nature of the data and the specific analysis being conducted.\n",
        "\n",
        "1. Mean: The mean is the average of a set of values, calculated by adding all the numbers together and dividing by the count of values. It is useful for datasets without extreme values (outliers) because outliers can skew the mean significantly.\n",
        "\n",
        "   Example: Consider the test scores of five students: 85, 90, 95, 70, and 100. The mean score is calculated as follows:\n",
        "   Mean = (85 + 90 + 95 + 70 + 100) / 5 = 86. The mean is appropriate when you want a general average and the data is evenly distributed.\n",
        "\n",
        "2. Median: The median is the middle value when the numbers are arranged in ascending or descending order. If there is an even number of values, the median is the average of the two middle numbers. The median is particularly useful for skewed distributions or when there are outliers, as it is not affected by extreme values.\n",
        "\n",
        "   Example: Using the same test scores, if we arrange them in order: 70, 85, 90, 95, 100, the median is 90 (the middle value). If the scores were 70, 85, 90, 95, 100, and 200, the median would still be 90, making it a better measure of central tendency in this case.\n",
        "\n",
        "3. Mode: The mode is the value that appears most frequently in a dataset. It can be used with both numerical and categorical data. A dataset may have one mode, more than one mode (bimodal or multimodal), or no mode at all if all values are unique.\n",
        "\n",
        "   Example: In a survey where the responses are: \"red,\" \"blue,\" \"blue,\" \"green,\" \"red,\" the mode is \"blue\" because it appears most often. The mode is useful when you want to identify the most common item, especially in categorical data."
      ],
      "metadata": {
        "id": "iYp6WsuGx0l7"
      }
    },
    {
      "cell_type": "code",
      "source": [
        "## QUES 3) Explain the concept of dispersion. How do variance and standard deviation measure the spread of data?"
      ],
      "metadata": {
        "id": "ATygsz9CyE6Q"
      },
      "execution_count": null,
      "outputs": []
    },
    {
      "cell_type": "markdown",
      "source": [
        "Dispersion refers to the extent to which data points in a dataset differ from each other and from the central value (mean, median, or mode). It provides insight into the variability or spread of the data, helping to understand how much the data values are distributed around the central value.\n",
        "\n",
        "Two common measures of dispersion are variance and standard deviation. Both of these metrics help quantify the spread of the data, but they do so in slightly different ways.\n",
        "\n",
        "1. Variance: Variance measures the average of the squared differences between each data point and the mean of the dataset. It provides an indication of how much the data points deviate from the mean. A higher variance indicates that the data points are more spread out, while a lower variance indicates that they are closer to the mean.\n",
        "\n",
        "   To calculate variance, follow these steps:\n",
        "   - Find the mean of the dataset.\n",
        "   - Subtract the mean from each data point and square the result.\n",
        "   - Average these squared differences.\n",
        "\n",
        "   Example: For the dataset 4, 8, 6, 5, and 3:\n",
        "   - Mean = (4 + 8 + 6 + 5 + 3) / 5 = 5.2\n",
        "   - Squared differences: (4 - 5.2)² = 1.44, (8 - 5.2)² = 7.84, (6 - 5.2)² = 0.64, (5 - 5.2)² = 0.04, (3 - 5.2)² = 4.84\n",
        "   - Variance = (1.44 + 7.84 + 0.64 + 0.04 + 4.84) / 5 = 2.56\n",
        "\n",
        "2. Standard Deviation: Standard deviation is the square root of the variance. It provides a measure of dispersion in the same units as the original data, making it more interpretable. Like variance, a higher standard deviation indicates greater spread in the data.\n",
        "\n",
        "   Example: Continuing from the previous variance calculation:\n",
        "   - Standard Deviation = sqrt(2.56) = 1.6"
      ],
      "metadata": {
        "id": "d0K765NJyNcS"
      }
    },
    {
      "cell_type": "code",
      "source": [
        "## QUES 4) What is a box plot, and what can it tell you about the distribution of data?"
      ],
      "metadata": {
        "id": "sKSB1vVnyXmJ"
      },
      "execution_count": null,
      "outputs": []
    },
    {
      "cell_type": "markdown",
      "source": [
        "A box plot, also known as a whisker plot, is a graphical representation that summarizes the distribution of a dataset. It displays the minimum, first quartile (Q1), median (Q2), third quartile (Q3), and maximum values, providing a clear visual summary of the data's spread and central tendency.\n",
        "\n",
        "Here's a breakdown of what a box plot includes:\n",
        "\n",
        "1. Box: The box represents the interquartile range (IQR), which is the distance between the first quartile (Q1) and the third quartile (Q3). This box contains the middle 50% of the data.\n",
        "\n",
        "2. Whiskers: The lines extending from the box, called whiskers, show the range of the data. The whiskers typically extend to the minimum and maximum values within 1.5 times the IQR from the quartiles. Any data points outside this range are considered outliers.\n",
        "\n",
        "3. Median Line: A line inside the box indicates the median (Q2) of the dataset, providing a measure of central tendency.\n",
        "\n",
        "A box plot can tell you several things about the distribution of data:\n",
        "\n",
        "- Central Tendency: The position of the median line within the box indicates where the center of the data lies.\n",
        "\n",
        "- Spread: The length of the box and the whiskers illustrates the spread of the data. A longer box or longer whiskers indicate greater variability.\n",
        "\n",
        "- Skewness: If the median line is closer to one end of the box, it suggests that the data may be skewed. For example, if the median is closer to Q1, the data may be positively skewed, while if it's closer to Q3, it may be negatively skewed.\n",
        "\n",
        "- Outliers: Any points plotted outside the whiskers are considered outliers, which can indicate unusual values in the dataset."
      ],
      "metadata": {
        "id": "-ggL_urpyfqB"
      }
    },
    {
      "cell_type": "code",
      "source": [
        "## QUES 5) Discuss the role of random sampling in making inferences about populations."
      ],
      "metadata": {
        "id": "V3HlimHKy-C4"
      },
      "execution_count": null,
      "outputs": []
    },
    {
      "cell_type": "markdown",
      "source": [
        "Random sampling plays a crucial role in making inferences about populations because it helps ensure that the sample accurately represents the larger group. Here are some key points about its importance:\n",
        "\n",
        "1. Representation: Random sampling allows every individual in the population an equal chance of being selected. This helps to create a sample that reflects the diversity and characteristics of the entire population, reducing bias.\n",
        "\n",
        "2. Generalization: When researchers collect data from a randomly selected sample, they can make generalizations about the entire population. This is because the sample is likely to exhibit similar traits to the population, allowing for more accurate conclusions.\n",
        "\n",
        "3. Reduction of Bias: By using random sampling, researchers minimize the risk of bias that can occur if certain groups are overrepresented or underrepresented. This leads to more reliable and valid results.\n",
        "\n",
        "4. Statistical Inference: Random samples enable the use of statistical methods to infer population parameters. For instance, researchers can estimate means, proportions, and variances, and calculate confidence intervals and margins of error based on the sample data.\n",
        "\n",
        "5. Error Estimation: Random sampling allows researchers to quantify the uncertainty associated with their estimates. By understanding the sampling error, they can assess how much confidence they have in their inferences about the population.\n",
        "\n",
        "6. Facilitates Comparisons: Random sampling also allows for comparisons between different groups or populations. By ensuring that samples are randomly drawn, researchers can make valid comparisons without the influence of confounding variables.\n"
      ],
      "metadata": {
        "id": "1fTa-qQ9zGY6"
      }
    },
    {
      "cell_type": "code",
      "source": [
        "## QUES 6) Explain the concept of skewness and its types. How does skewness affect the interpretation of data?"
      ],
      "metadata": {
        "id": "3A6IjuqGzqun"
      },
      "execution_count": null,
      "outputs": []
    },
    {
      "cell_type": "markdown",
      "source": [
        "Skewness is a statistical measure that describes the asymmetry of a distribution. It indicates how much and in which direction a distribution deviates from a normal distribution, which is symmetrical. Here’s a detailed look at skewness and its types:\n",
        "\n",
        "1. Positive Skewness (Right Skew): In a positively skewed distribution, the tail on the right side is longer or fatter than the left side. This means that most of the data points are concentrated on the left, with a few larger values stretching the tail to the right. An example might be income distribution, where most people earn lower incomes, but a few earn significantly higher amounts.\n",
        "\n",
        "2. Negative Skewness (Left Skew): Conversely, a negatively skewed distribution has a longer or fatter tail on the left side. Here, most data points are concentrated on the right, with a few lower values pulling the tail to the left. An example could be test scores where most students perform well, but a few score very low.\n",
        "\n",
        "3. Zero Skewness: A distribution that has zero skewness is perfectly symmetrical, resembling a normal distribution. In this case, the mean, median, and mode are all equal.\n",
        "\n",
        "How Skewness Affects Data Interpretation:\n",
        "\n",
        "- Mean vs. Median: In a skewed distribution, the mean is pulled in the direction of the skew. For example, in a positively skewed distribution, the mean will be greater than the median. This can lead to misinterpretation of the data if one only looks at the mean without considering the skewness.\n",
        "\n",
        "- Decision Making: Understanding skewness is crucial for decision-making processes. For instance, in business, if sales data is positively skewed, it may indicate that while most products sell moderately, a few high-selling products significantly impact the average, which can affect inventory and marketing strategies.\n",
        "\n",
        "- Statistical Analysis: Many statistical tests assume normality. If the data is skewed, it can violate these assumptions, leading to incorrect conclusions. Recognizing skewness helps in choosing the appropriate statistical methods or transformations to apply."
      ],
      "metadata": {
        "id": "Vt5dms5o0N3D"
      }
    },
    {
      "cell_type": "code",
      "source": [
        "## QUES 7)  What is the interquartile range (IQR), and how is it used to detect outliers?"
      ],
      "metadata": {
        "id": "g89EpdN10ebf"
      },
      "execution_count": null,
      "outputs": []
    },
    {
      "cell_type": "markdown",
      "source": [
        "The interquartile range (IQR) is a measure of statistical dispersion that represents the range within which the central 50% of a data set lies. It is calculated by subtracting the first quartile (Q1) from the third quartile (Q3).\n",
        "\n",
        "Here's how to calculate the IQR:\n",
        "\n",
        "1. Find Q1 (First Quartile): This is the median of the lower half of the data set. It marks the 25th percentile.\n",
        "2. Find Q3 (Third Quartile): This is the median of the upper half of the data set. It marks the 75th percentile.\n",
        "3. Calculate IQR: Use the formula:\n",
        "   \\[\n",
        "   \\text{IQR} = Q3 - Q1\n",
        "   \\]\n",
        "\n",
        "The IQR is particularly useful for detecting outliers. Here’s how it works:\n",
        "\n",
        "1. Determine the Lower and Upper Bounds:\n",
        "   - Calculate the lower bound by subtracting 1.5 times the IQR from Q1:\n",
        "     \\[\n",
        "     \\text{Lower Bound} = Q1 - 1.5 \\times \\text{IQR}\n",
        "     \\]\n",
        "   - Calculate the upper bound by adding 1.5 times the IQR to Q3:\n",
        "     \\[\n",
        "     \\text{Upper Bound} = Q3 + 1.5 \\times \\text{IQR}\n",
        "     \\]\n",
        "\n",
        "2. Identify Outliers: Any data point that falls below the lower bound or above the upper bound is considered an outlier.\n",
        "\n",
        "Using the IQR to detect outliers is beneficial because it is not affected by extreme values, making it a robust method for understanding the spread of the data. This helps in maintaining the integrity of statistical analyses and visualizations, ensuring that outliers do not skew the results."
      ],
      "metadata": {
        "id": "yPsG-7-k0nQ0"
      }
    },
    {
      "cell_type": "code",
      "source": [
        "## QUES 8) Discuss the conditions under which the binomial distribution is used."
      ],
      "metadata": {
        "id": "md42wCul0trI"
      },
      "execution_count": null,
      "outputs": []
    },
    {
      "cell_type": "markdown",
      "source": [
        "The binomial distribution is used under specific conditions that must be met for the model to be applicable. Here are the key conditions:\n",
        "\n",
        "1. Fixed Number of Trials: The experiment must consist of a fixed number of trials, denoted as 'n'. Each trial is an independent occurrence.\n",
        "\n",
        "2. Two Possible Outcomes: Each trial must result in one of two possible outcomes, commonly referred to as \"success\" and \"failure\". For example, flipping a coin results in either heads (success) or tails (failure).\n",
        "\n",
        "3. Constant Probability: The probability of success (denoted as 'p') must remain constant for each trial. This means that the likelihood of success does not change from one trial to the next.\n",
        "\n",
        "4. Independence: The trials must be independent of each other. This means the outcome of one trial does not affect the outcome of another trial.\n",
        "\n",
        "When these conditions are satisfied, the binomial distribution can be used to calculate the probability of obtaining a certain number of successes in a given number of trials.\n",
        "\n",
        "For instance, if you wanted to determine the probability of getting a certain number of heads when flipping a fair coin multiple times, you would use the binomial distribution, assuming the conditions above are met.\n",
        "\n",
        "In summary, the binomial distribution is applicable when you have a fixed number of independent trials with two outcomes, a constant probability of success, and you want to find the probability of a specific number of successes."
      ],
      "metadata": {
        "id": "n9lc_Cxd08Pu"
      }
    },
    {
      "cell_type": "code",
      "source": [
        "## QUES 9) Explain the properties of the normal distribution and the empirical rule (68-95-99.7 rule)."
      ],
      "metadata": {
        "id": "UuQ5MxhI1ESO"
      },
      "execution_count": null,
      "outputs": []
    },
    {
      "cell_type": "markdown",
      "source": [
        "The normal distribution, also known as the Gaussian distribution, is a continuous probability distribution that is symmetric about its mean. It has several important properties:\n",
        "\n",
        "1. Bell-Shaped Curve: The graph of the normal distribution is bell-shaped, with the highest point at the mean. This shape indicates that values near the mean are more frequent than values far from the mean.\n",
        "\n",
        "2. Symmetry: The distribution is symmetric about the mean, which means that the left side of the curve is a mirror image of the right side. This implies that the mean, median, and mode of the distribution are all equal.\n",
        "\n",
        "3. Defined by Mean and Standard Deviation: The normal distribution is completely described by its mean (µ) and standard deviation (σ). The mean determines the center of the distribution, while the standard deviation determines the spread or width of the curve.\n",
        "\n",
        "4. Asymptotic: The tails of the normal distribution approach, but never actually touch, the horizontal axis. This means that there is a non-zero probability of extreme values, but they become increasingly rare.\n",
        "\n",
        "5. Total Area Under the Curve: The total area under the normal distribution curve equals 1, representing the total probability of all possible outcomes.\n",
        "\n",
        "Now, let’s discuss the empirical rule, also known as the 68-95-99.7 rule. This rule provides a quick way to understand the distribution of data in a normal distribution:\n",
        "\n",
        "1. 68% of Data: Approximately 68% of the data falls within one standard deviation (σ) of the mean (µ). This means that about 68% of the data points lie in the range of (µ - σ) to (µ + σ).\n",
        "\n",
        "2. 95% of Data: About 95% of the data falls within two standard deviations of the mean. This indicates that approximately 95% of the data points are in the range of (µ - 2σ) to (µ + 2σ).\n",
        "\n",
        "3. 99.7% of Data: Approximately 99.7% of the data lies within three standard deviations of the mean. Therefore, nearly all data points are found in the range of (µ - 3σ) to (µ + 3σ).\n",
        "\n",
        "These properties and the empirical rule are useful for understanding how data is distributed in many real-world situations, making the normal distribution a key concept in statistics."
      ],
      "metadata": {
        "id": "oElD0j5y1Q17"
      }
    },
    {
      "cell_type": "code",
      "source": [
        "## QUES 10) Provide a real-life example of a Poisson process and calculate the probability for a specific event."
      ],
      "metadata": {
        "id": "tGKJxFuT1Y7P"
      },
      "execution_count": null,
      "outputs": []
    },
    {
      "cell_type": "markdown",
      "source": [
        "A real-life example of a Poisson process is the number of emails received by a person in an hour. Let's say that on average, a person receives 5 emails per hour. This scenario can be modeled using a Poisson distribution, where the average rate (λ) is 5 emails per hour.\n",
        "\n",
        "Now, let's calculate the probability of receiving exactly 3 emails in one hour. The formula for the Poisson probability mass function is:\n",
        "\n",
        "P(X = k) = (λ^k * e^(-λ)) / k!\n",
        "\n",
        "Where:\n",
        "- P(X = k) is the probability of receiving exactly k events (emails in this case).\n",
        "- λ is the average rate (5 emails).\n",
        "- e is approximately equal to 2.71828.\n",
        "- k is the number of events we want the probability for (3 emails).\n",
        "- k! is the factorial of k.\n",
        "\n",
        "Now, let's plug in the values into the formula:\n",
        "\n",
        "1. λ = 5\n",
        "2. k = 3\n",
        "\n",
        "First, calculate λ^k:\n",
        "5^3 = 125\n",
        "\n",
        "Next, calculate e^(-λ):\n",
        "e^(-5) ≈ 0.006737\n",
        "\n",
        "Now, calculate k!:\n",
        "3! = 3 * 2 * 1 = 6\n",
        "\n",
        "Now, substitute these values into the formula:\n",
        "\n",
        "P(X = 3) = (125 * 0.006737) / 6\n",
        "\n",
        "Now, calculate the numerator:\n",
        "125 * 0.006737 ≈ 0.842125\n",
        "\n",
        "Now, divide by k!:\n",
        "P(X = 3) = 0.842125 / 6 ≈ 0.140354\n",
        "\n",
        "Therefore, the probability of receiving exactly 3 emails in one hour is approximately 0.1404, or 14.04%."
      ],
      "metadata": {
        "id": "6yrBPXxn1uE7"
      }
    },
    {
      "cell_type": "code",
      "source": [
        "## QUES 11) Explain what a random variable is and differentiate between discrete and continuous random variables."
      ],
      "metadata": {
        "id": "NUtU7VwL1wvv"
      },
      "execution_count": null,
      "outputs": []
    },
    {
      "cell_type": "markdown",
      "source": [
        "A random variable is a numerical outcome of a random phenomenon. It assigns a number to each possible outcome in a way that allows us to quantify uncertainty. Random variables are used in statistics and probability theory to analyze random processes and events.\n",
        "\n",
        "There are two main types of random variables: discrete and continuous.\n",
        "\n",
        "1. Discrete Random Variables:\n",
        "Discrete random variables take on a countable number of distinct values. This means you can list all possible outcomes, and they often represent counts or whole numbers. For example, the number of students in a classroom or the number of cars that pass through a toll booth in an hour are discrete random variables. Since you can count these outcomes, they can take values like 0, 1, 2, 3, etc.\n",
        "\n",
        "2. Continuous Random Variables:\n",
        "Continuous random variables, on the other hand, can take on an infinite number of values within a given range. They represent measurements and can include any value within a certain interval. For instance, the height of students, the time it takes to run a race, or the temperature in a city are continuous random variables. These variables can take values like 1.5 meters, 2.3 seconds, or 30.7 degrees, and they can include fractions and decimals.\n",
        "\n",
        "In summary, the key difference is that discrete random variables are countable and have distinct values, while continuous random variables can take any value within a range and are measurable."
      ],
      "metadata": {
        "id": "E7ArT5ZR2MTM"
      }
    },
    {
      "cell_type": "code",
      "source": [
        "## QUES 12) Provide an example dataset, calculate both covariance and correlation, and interpret the results."
      ],
      "metadata": {
        "id": "2XXlvVlt2RIe"
      },
      "execution_count": null,
      "outputs": []
    },
    {
      "cell_type": "markdown",
      "source": [
        "Let's consider a simple example dataset consisting of two variables: the number of hours studied and the corresponding exam scores of five students.\n",
        "\n",
        "Here’s the dataset:\n",
        "\n",
        "| Student | Hours Studied (X) | Exam Score (Y) |\n",
        "|---------|-------------------|----------------|\n",
        "| 1       | 2                 | 65             |\n",
        "| 2       | 3                 | 70             |\n",
        "| 3       | 4                 | 75             |\n",
        "| 4       | 5                 | 80             |\n",
        "| 5       | 6                 | 85             |\n",
        "\n",
        "Now, we will calculate the covariance and correlation between the two variables.\n",
        "\n",
        "Step 1: Calculate the means of X and Y.\n",
        "\n",
        "Mean of X (Hours Studied):\n",
        "Mean(X) = (2 + 3 + 4 + 5 + 6) / 5 = 20 / 5 = 4\n",
        "\n",
        "Mean of Y (Exam Score):\n",
        "Mean(Y) = (65 + 70 + 75 + 80 + 85) / 5 = 375 / 5 = 75\n",
        "\n",
        "Step 2: Calculate the covariance.\n",
        "\n",
        "Cov(X, Y) = Σ((X_i - Mean(X)) * (Y_i - Mean(Y))) / (n - 1)\n",
        "\n",
        "Where:\n",
        "- X_i and Y_i are the individual values.\n",
        "- n is the number of pairs (5 in this case).\n",
        "\n",
        "Calculating each term:\n",
        "- For Student 1: (2 - 4) * (65 - 75) = (-2) * (-10) = 20\n",
        "- For Student 2: (3 - 4) * (70 - 75) = (-1) * (-5) = 5\n",
        "- For Student 3: (4 - 4) * (75 - 75) = (0) * (0) = 0\n",
        "- For Student 4: (5 - 4) * (80 - 75) = (1) * (5) = 5\n",
        "- For Student 5: (6 - 4) * (85 - 75) = (2) * (10) = 20\n",
        "\n",
        "Now sum these products:\n",
        "Cov(X, Y) = (20 + 5 + 0 + 5 + 20) / 4 = 50 / 4 = 12.5\n",
        "\n",
        "Step 3: Calculate the standard deviations of X and Y.\n",
        "\n",
        "Standard deviation of X (σ_X):\n",
        "σ_X = sqrt(Σ(X_i - Mean(X))^2 / (n - 1))\n",
        "\n",
        "Calculating each term:\n",
        "- For Student 1: (2 - 4)^2 = 4\n",
        "- For Student 2: (3 - 4)^2 = 1\n",
        "- For Student 3: (4 - 4)^2 = 0\n",
        "- For Student 4: (5 - 4)^2 = 1\n",
        "- For Student 5: (6 - 4)^2 = 4\n",
        "\n",
        "Sum these:\n",
        "σ_X = sqrt((4 + 1 + 0 + 1 + 4) / 4) = sqrt(10 / 4) = sqrt(2.5) ≈ 1.58\n",
        "\n",
        "Standard deviation of Y (σ_Y):\n",
        "σ_Y = sqrt(Σ(Y_i - Mean(Y))^2 / (n - 1))\n",
        "\n",
        "Calculating each term:\n",
        "- For Student 1: (65 - 75)^2 = 100\n",
        "- For Student 2: (70 - 75)^2 = 25\n",
        "- For Student 3: (75 - 75)^2 = 0\n",
        "- For Student 4: (80 - 75)^2 = 25\n",
        "- For Student 5: (85 - 75)^2 = 100\n",
        "\n",
        "Sum these:\n",
        "σ_Y = sqrt((100 + 25 + 0 + 25 + 100) / 4) = sqrt(250 / 4) = sqrt(62.5) ≈ 7.91\n",
        "\n",
        "Step 4: Calculate the correlation coefficient.\n",
        "\n",
        "Correlation (r) = Cov(X, Y) / (σ_X * σ_Y)\n",
        "\n",
        "r = 12.5 / (1.58 * 7.91) ≈ 12.5 / 12.48 ≈ 1.00\n",
        "\n",
        "Interpretation:\n",
        "- The covariance of 12.5 indicates a positive relationship between hours studied and exam scores, meaning that as the number of hours studied increases, the exam scores tend to increase as well.\n",
        "- The correlation coefficient of approximately 1.00 indicates a perfect positive linear relationship between the two variables. This means that for every additional hour studied, the exam score increases consistently, showing a strong and direct relationship.\n",
        "\n",
        "In conclusion, both the covariance and correlation provide insights into the relationship between hours studied and exam scores, confirming that more study time is associated with higher exam scores."
      ],
      "metadata": {
        "id": "B0gvZeQl2bFR"
      }
    }
  ]
}